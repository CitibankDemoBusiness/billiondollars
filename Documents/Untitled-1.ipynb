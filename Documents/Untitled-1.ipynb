{
 "cells": [
  {
   "cell_type": "code",
   "execution_count": null,
   "metadata": {},
   "outputs": [],
   "source": [
    "from googleapiclient.discovery import build\n",
    "from oauth2client.client import GoogleCredentials\n",
    "import io\n",
    "import os\n",
    "import onnx\n",
    "\n",
    "def authenticate_with_google_drive():\n",
    "    \"\"\"Authenticates with the Google Drive API.\n",
    "\n",
    "    Returns:\n",
    "        A Google Drive service object.\n",
    "    \"\"\"\n",
    "\n",
    "    credentials = GoogleCredentials.get_application_default()\n",
    "    drive_service = build('drive', 'v3', credentials=credentials)\n",
    "\n",
    "    return drive_service\n",
    "\n",
    "def download_file_from_drive(file_id, drive_service):\n",
    "    \"\"\"Downloads a file from Google Drive.\n",
    "\n",
    "    Args:\n",
    "        file_id: The ID of the file to download.\n",
    "        drive_service: A Google Drive service object.\n",
    "    \"\"\"\n",
    "\n",
    "    # Get the file metadata.\n",
    "    file_metadata = drive_service.files().get(fileId=file_id).execute()\n",
    "\n",
    "    # Download the file.\n",
    "    file_data = drive_service.files().get_media(fileId=file_id).execute()\n",
    "\n",
    "    # Save the file to disk.\n",
    "    with open('onnx_model.onnx', 'wb') as f:\n",
    "        f.write(file_data)\n",
    "\n",
    "if __name__ == '__main__':\n",
    "    # Authenticate with the Google Drive API.\n",
    "    drive_service = authenticate_with_google_drive()\n",
    "\n",
    "    # Download the ONNX model from Google Drive.\n",
    "    download_file_from_drive('1LufhOF7wf92-wVUU0kkYsIaBM4Ho_6AV', drive_service)\n",
    "\n",
    "    # Load the ONNX model.\n",
    "    onnx_model = onnx.load('onnx_model.onnx')\n",
    "\n",
    "    # Do something with the ONNX model.\n",
    "    print(onnx_model.graph)\n"
   ]
  }
 ],
 "metadata": {
  "kernelspec": {
   "display_name": "Python 3 (ipykernel)",
   "language": "python",
   "name": "python3"
  }
 },
 "nbformat": 4,
 "nbformat_minor": 2
}
